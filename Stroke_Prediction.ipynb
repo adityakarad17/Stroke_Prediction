{
  "nbformat": 4,
  "nbformat_minor": 0,
  "metadata": {
    "colab": {
      "name": "Stroke_Prediction.ipynb",
      "provenance": [],
      "collapsed_sections": [
        "61B64JGhP3b4"
      ],
      "toc_visible": true
    },
    "kernelspec": {
      "name": "python3",
      "display_name": "Python 3"
    },
    "language_info": {
      "name": "python"
    }
  },
  "cells": [
    {
      "cell_type": "markdown",
      "metadata": {
        "id": "oXeEyrMl2aee"
      },
      "source": [
        "## Importing libraries"
      ]
    },
    {
      "cell_type": "code",
      "metadata": {
        "id": "k5ZXNtXJ0pzf"
      },
      "source": [
        "import pandas as pd\n",
        "import numpy as np\n",
        "import seaborn as sns\n",
        "import tensorflow as tf\n",
        "import matplotlib.pyplot as plt"
      ],
      "execution_count": null,
      "outputs": []
    },
    {
      "cell_type": "markdown",
      "metadata": {
        "id": "hgHYCcGy2eY-"
      },
      "source": [
        "## Importing dataset"
      ]
    },
    {
      "cell_type": "code",
      "metadata": {
        "id": "akpT3DPP02cF"
      },
      "source": [
        "dataset = pd.read_csv('dataset.csv')"
      ],
      "execution_count": null,
      "outputs": []
    },
    {
      "cell_type": "code",
      "metadata": {
        "colab": {
          "base_uri": "https://localhost:8080/",
          "height": 206
        },
        "id": "yS_yL0Lv2h2X",
        "outputId": "51ad0971-616e-4e79-f5bb-fdcf5913cf1d"
      },
      "source": [
        "dataset.head()"
      ],
      "execution_count": null,
      "outputs": [
        {
          "output_type": "execute_result",
          "data": {
            "text/html": [
              "<div>\n",
              "<style scoped>\n",
              "    .dataframe tbody tr th:only-of-type {\n",
              "        vertical-align: middle;\n",
              "    }\n",
              "\n",
              "    .dataframe tbody tr th {\n",
              "        vertical-align: top;\n",
              "    }\n",
              "\n",
              "    .dataframe thead th {\n",
              "        text-align: right;\n",
              "    }\n",
              "</style>\n",
              "<table border=\"1\" class=\"dataframe\">\n",
              "  <thead>\n",
              "    <tr style=\"text-align: right;\">\n",
              "      <th></th>\n",
              "      <th>id</th>\n",
              "      <th>gender</th>\n",
              "      <th>age</th>\n",
              "      <th>hypertension</th>\n",
              "      <th>heart_disease</th>\n",
              "      <th>ever_married</th>\n",
              "      <th>work_type</th>\n",
              "      <th>Residence_type</th>\n",
              "      <th>avg_glucose_level</th>\n",
              "      <th>bmi</th>\n",
              "      <th>smoking_status</th>\n",
              "      <th>stroke</th>\n",
              "    </tr>\n",
              "  </thead>\n",
              "  <tbody>\n",
              "    <tr>\n",
              "      <th>0</th>\n",
              "      <td>9046</td>\n",
              "      <td>Male</td>\n",
              "      <td>67.0</td>\n",
              "      <td>0</td>\n",
              "      <td>1</td>\n",
              "      <td>Yes</td>\n",
              "      <td>Private</td>\n",
              "      <td>Urban</td>\n",
              "      <td>228.69</td>\n",
              "      <td>36.6</td>\n",
              "      <td>formerly smoked</td>\n",
              "      <td>1</td>\n",
              "    </tr>\n",
              "    <tr>\n",
              "      <th>1</th>\n",
              "      <td>51676</td>\n",
              "      <td>Female</td>\n",
              "      <td>61.0</td>\n",
              "      <td>0</td>\n",
              "      <td>0</td>\n",
              "      <td>Yes</td>\n",
              "      <td>Self-employed</td>\n",
              "      <td>Rural</td>\n",
              "      <td>202.21</td>\n",
              "      <td>NaN</td>\n",
              "      <td>never smoked</td>\n",
              "      <td>1</td>\n",
              "    </tr>\n",
              "    <tr>\n",
              "      <th>2</th>\n",
              "      <td>31112</td>\n",
              "      <td>Male</td>\n",
              "      <td>80.0</td>\n",
              "      <td>0</td>\n",
              "      <td>1</td>\n",
              "      <td>Yes</td>\n",
              "      <td>Private</td>\n",
              "      <td>Rural</td>\n",
              "      <td>105.92</td>\n",
              "      <td>32.5</td>\n",
              "      <td>never smoked</td>\n",
              "      <td>1</td>\n",
              "    </tr>\n",
              "    <tr>\n",
              "      <th>3</th>\n",
              "      <td>60182</td>\n",
              "      <td>Female</td>\n",
              "      <td>49.0</td>\n",
              "      <td>0</td>\n",
              "      <td>0</td>\n",
              "      <td>Yes</td>\n",
              "      <td>Private</td>\n",
              "      <td>Urban</td>\n",
              "      <td>171.23</td>\n",
              "      <td>34.4</td>\n",
              "      <td>smokes</td>\n",
              "      <td>1</td>\n",
              "    </tr>\n",
              "    <tr>\n",
              "      <th>4</th>\n",
              "      <td>1665</td>\n",
              "      <td>Female</td>\n",
              "      <td>79.0</td>\n",
              "      <td>1</td>\n",
              "      <td>0</td>\n",
              "      <td>Yes</td>\n",
              "      <td>Self-employed</td>\n",
              "      <td>Rural</td>\n",
              "      <td>174.12</td>\n",
              "      <td>24.0</td>\n",
              "      <td>never smoked</td>\n",
              "      <td>1</td>\n",
              "    </tr>\n",
              "  </tbody>\n",
              "</table>\n",
              "</div>"
            ],
            "text/plain": [
              "      id  gender   age  ...   bmi   smoking_status stroke\n",
              "0   9046    Male  67.0  ...  36.6  formerly smoked      1\n",
              "1  51676  Female  61.0  ...   NaN     never smoked      1\n",
              "2  31112    Male  80.0  ...  32.5     never smoked      1\n",
              "3  60182  Female  49.0  ...  34.4           smokes      1\n",
              "4   1665  Female  79.0  ...  24.0     never smoked      1\n",
              "\n",
              "[5 rows x 12 columns]"
            ]
          },
          "metadata": {
            "tags": []
          },
          "execution_count": 3
        }
      ]
    },
    {
      "cell_type": "markdown",
      "metadata": {
        "id": "_2LDymjGO0ZO"
      },
      "source": [
        "Printing a basic summary of dataset given to us"
      ]
    },
    {
      "cell_type": "code",
      "metadata": {
        "colab": {
          "base_uri": "https://localhost:8080/",
          "height": 300
        },
        "id": "mKeksjyr1BuP",
        "outputId": "ad12ee5e-0459-4a3f-ecf0-2925cea41513"
      },
      "source": [
        "dataset.describe()"
      ],
      "execution_count": null,
      "outputs": [
        {
          "output_type": "execute_result",
          "data": {
            "text/html": [
              "<div>\n",
              "<style scoped>\n",
              "    .dataframe tbody tr th:only-of-type {\n",
              "        vertical-align: middle;\n",
              "    }\n",
              "\n",
              "    .dataframe tbody tr th {\n",
              "        vertical-align: top;\n",
              "    }\n",
              "\n",
              "    .dataframe thead th {\n",
              "        text-align: right;\n",
              "    }\n",
              "</style>\n",
              "<table border=\"1\" class=\"dataframe\">\n",
              "  <thead>\n",
              "    <tr style=\"text-align: right;\">\n",
              "      <th></th>\n",
              "      <th>id</th>\n",
              "      <th>age</th>\n",
              "      <th>hypertension</th>\n",
              "      <th>heart_disease</th>\n",
              "      <th>avg_glucose_level</th>\n",
              "      <th>bmi</th>\n",
              "      <th>stroke</th>\n",
              "    </tr>\n",
              "  </thead>\n",
              "  <tbody>\n",
              "    <tr>\n",
              "      <th>count</th>\n",
              "      <td>5110.000000</td>\n",
              "      <td>5110.000000</td>\n",
              "      <td>5110.000000</td>\n",
              "      <td>5110.000000</td>\n",
              "      <td>5110.000000</td>\n",
              "      <td>4909.000000</td>\n",
              "      <td>5110.000000</td>\n",
              "    </tr>\n",
              "    <tr>\n",
              "      <th>mean</th>\n",
              "      <td>36517.829354</td>\n",
              "      <td>43.226614</td>\n",
              "      <td>0.097456</td>\n",
              "      <td>0.054012</td>\n",
              "      <td>106.147677</td>\n",
              "      <td>28.893237</td>\n",
              "      <td>0.048728</td>\n",
              "    </tr>\n",
              "    <tr>\n",
              "      <th>std</th>\n",
              "      <td>21161.721625</td>\n",
              "      <td>22.612647</td>\n",
              "      <td>0.296607</td>\n",
              "      <td>0.226063</td>\n",
              "      <td>45.283560</td>\n",
              "      <td>7.854067</td>\n",
              "      <td>0.215320</td>\n",
              "    </tr>\n",
              "    <tr>\n",
              "      <th>min</th>\n",
              "      <td>67.000000</td>\n",
              "      <td>0.080000</td>\n",
              "      <td>0.000000</td>\n",
              "      <td>0.000000</td>\n",
              "      <td>55.120000</td>\n",
              "      <td>10.300000</td>\n",
              "      <td>0.000000</td>\n",
              "    </tr>\n",
              "    <tr>\n",
              "      <th>25%</th>\n",
              "      <td>17741.250000</td>\n",
              "      <td>25.000000</td>\n",
              "      <td>0.000000</td>\n",
              "      <td>0.000000</td>\n",
              "      <td>77.245000</td>\n",
              "      <td>23.500000</td>\n",
              "      <td>0.000000</td>\n",
              "    </tr>\n",
              "    <tr>\n",
              "      <th>50%</th>\n",
              "      <td>36932.000000</td>\n",
              "      <td>45.000000</td>\n",
              "      <td>0.000000</td>\n",
              "      <td>0.000000</td>\n",
              "      <td>91.885000</td>\n",
              "      <td>28.100000</td>\n",
              "      <td>0.000000</td>\n",
              "    </tr>\n",
              "    <tr>\n",
              "      <th>75%</th>\n",
              "      <td>54682.000000</td>\n",
              "      <td>61.000000</td>\n",
              "      <td>0.000000</td>\n",
              "      <td>0.000000</td>\n",
              "      <td>114.090000</td>\n",
              "      <td>33.100000</td>\n",
              "      <td>0.000000</td>\n",
              "    </tr>\n",
              "    <tr>\n",
              "      <th>max</th>\n",
              "      <td>72940.000000</td>\n",
              "      <td>82.000000</td>\n",
              "      <td>1.000000</td>\n",
              "      <td>1.000000</td>\n",
              "      <td>271.740000</td>\n",
              "      <td>97.600000</td>\n",
              "      <td>1.000000</td>\n",
              "    </tr>\n",
              "  </tbody>\n",
              "</table>\n",
              "</div>"
            ],
            "text/plain": [
              "                 id          age  ...          bmi       stroke\n",
              "count   5110.000000  5110.000000  ...  4909.000000  5110.000000\n",
              "mean   36517.829354    43.226614  ...    28.893237     0.048728\n",
              "std    21161.721625    22.612647  ...     7.854067     0.215320\n",
              "min       67.000000     0.080000  ...    10.300000     0.000000\n",
              "25%    17741.250000    25.000000  ...    23.500000     0.000000\n",
              "50%    36932.000000    45.000000  ...    28.100000     0.000000\n",
              "75%    54682.000000    61.000000  ...    33.100000     0.000000\n",
              "max    72940.000000    82.000000  ...    97.600000     1.000000\n",
              "\n",
              "[8 rows x 7 columns]"
            ]
          },
          "metadata": {
            "tags": []
          },
          "execution_count": 4
        }
      ]
    },
    {
      "cell_type": "markdown",
      "metadata": {
        "id": "NnzAFxYz2sh9"
      },
      "source": [
        "## Checking empty values"
      ]
    },
    {
      "cell_type": "markdown",
      "metadata": {
        "id": "7MoB6BRsO474"
      },
      "source": [
        "Checking if there are any empty values in the entire dataset"
      ]
    },
    {
      "cell_type": "code",
      "metadata": {
        "colab": {
          "base_uri": "https://localhost:8080/"
        },
        "id": "T6z2zdIx07jt",
        "outputId": "de4e2037-0778-4dc8-865c-572d0e918ace"
      },
      "source": [
        "dataset.isnull().sum()"
      ],
      "execution_count": null,
      "outputs": [
        {
          "output_type": "execute_result",
          "data": {
            "text/plain": [
              "id                     0\n",
              "gender                 0\n",
              "age                    0\n",
              "hypertension           0\n",
              "heart_disease          0\n",
              "ever_married           0\n",
              "work_type              0\n",
              "Residence_type         0\n",
              "avg_glucose_level      0\n",
              "bmi                  201\n",
              "smoking_status         0\n",
              "stroke                 0\n",
              "dtype: int64"
            ]
          },
          "metadata": {
            "tags": []
          },
          "execution_count": 5
        }
      ]
    },
    {
      "cell_type": "markdown",
      "metadata": {
        "id": "ogDc5TFC2u_j"
      },
      "source": [
        "## Replacing empty values with mean"
      ]
    },
    {
      "cell_type": "code",
      "metadata": {
        "id": "CMzq_rzT087e"
      },
      "source": [
        "dataset.bmi.replace(to_replace=np.nan, value=dataset.bmi.mean(), inplace=True)"
      ],
      "execution_count": null,
      "outputs": []
    },
    {
      "cell_type": "code",
      "metadata": {
        "colab": {
          "base_uri": "https://localhost:8080/"
        },
        "id": "s4s9to4k0-Fr",
        "outputId": "1d87c88b-5bab-4e84-d355-eb8317ce8149"
      },
      "source": [
        "dataset.isnull().sum()"
      ],
      "execution_count": null,
      "outputs": [
        {
          "output_type": "execute_result",
          "data": {
            "text/plain": [
              "id                   0\n",
              "gender               0\n",
              "age                  0\n",
              "hypertension         0\n",
              "heart_disease        0\n",
              "ever_married         0\n",
              "work_type            0\n",
              "Residence_type       0\n",
              "avg_glucose_level    0\n",
              "bmi                  0\n",
              "smoking_status       0\n",
              "stroke               0\n",
              "dtype: int64"
            ]
          },
          "metadata": {
            "tags": []
          },
          "execution_count": 7
        }
      ]
    },
    {
      "cell_type": "markdown",
      "metadata": {
        "id": "r6rth4l33HI1"
      },
      "source": [
        "## Data pre-processing"
      ]
    },
    {
      "cell_type": "markdown",
      "metadata": {
        "id": "iooOUGGRPD7P"
      },
      "source": [
        "Splitting dataset into dependent and independent variables"
      ]
    },
    {
      "cell_type": "code",
      "metadata": {
        "id": "l7Y1bWAH1F24"
      },
      "source": [
        "x = dataset.iloc[:, 1:-1].values\n",
        "y = dataset.iloc[:, -1].values"
      ],
      "execution_count": null,
      "outputs": []
    },
    {
      "cell_type": "markdown",
      "metadata": {
        "id": "hASFts3x3Xwp"
      },
      "source": [
        "## Encoding categorical data"
      ]
    },
    {
      "cell_type": "markdown",
      "metadata": {
        "id": "CWKFSONa3kBT"
      },
      "source": [
        "We are using OneHotEncoder() to encode the categorical columns: 'gender', 'work_type' and 'smoking_status'."
      ]
    },
    {
      "cell_type": "code",
      "metadata": {
        "id": "DtTGH82L1IIY"
      },
      "source": [
        "from sklearn.compose import ColumnTransformer\n",
        "from sklearn.preprocessing import OneHotEncoder\n",
        "ct = ColumnTransformer(transformers= [('encoder', OneHotEncoder(), [0,5,9])], remainder= 'passthrough')\n",
        "x = np.array(ct.fit_transform(x))"
      ],
      "execution_count": null,
      "outputs": []
    },
    {
      "cell_type": "code",
      "metadata": {
        "colab": {
          "base_uri": "https://localhost:8080/"
        },
        "id": "4UcsauVQ6Rb5",
        "outputId": "a1320a72-d035-4dbd-cb2f-306689137917"
      },
      "source": [
        "print(x)"
      ],
      "execution_count": null,
      "outputs": [
        {
          "output_type": "stream",
          "text": [
            "[[0.0 1.0 0.0 ... 'Urban' 228.69 36.6]\n",
            " [1.0 0.0 0.0 ... 'Rural' 202.21 28.893236911794673]\n",
            " [0.0 1.0 0.0 ... 'Rural' 105.92 32.5]\n",
            " ...\n",
            " [1.0 0.0 0.0 ... 'Rural' 82.99 30.6]\n",
            " [0.0 1.0 0.0 ... 'Rural' 166.29 25.6]\n",
            " [1.0 0.0 0.0 ... 'Urban' 85.28 26.2]]\n"
          ],
          "name": "stdout"
        }
      ]
    },
    {
      "cell_type": "markdown",
      "metadata": {
        "id": "b4gYpek73jH5"
      },
      "source": [
        "We are using LabelEncoder() to encode binary columns: 'ever_married' and 'residence_type'"
      ]
    },
    {
      "cell_type": "code",
      "metadata": {
        "id": "WAW6gPGW1Jsi"
      },
      "source": [
        "from sklearn.preprocessing import LabelEncoder\n",
        "le = LabelEncoder()\n",
        "x[:, 15] = le.fit_transform(x[:, 15])\n",
        "x[:, 16] = le.fit_transform(x[:, 16])"
      ],
      "execution_count": null,
      "outputs": []
    },
    {
      "cell_type": "code",
      "metadata": {
        "colab": {
          "base_uri": "https://localhost:8080/"
        },
        "id": "NXK_kB_36OoO",
        "outputId": "d53e6664-58f0-40fb-aefe-670d948ebcca"
      },
      "source": [
        "print(x)"
      ],
      "execution_count": null,
      "outputs": [
        {
          "output_type": "stream",
          "text": [
            "[[0.0 1.0 0.0 ... 1 228.69 36.6]\n",
            " [1.0 0.0 0.0 ... 0 202.21 28.893236911794673]\n",
            " [0.0 1.0 0.0 ... 0 105.92 32.5]\n",
            " ...\n",
            " [1.0 0.0 0.0 ... 0 82.99 30.6]\n",
            " [0.0 1.0 0.0 ... 0 166.29 25.6]\n",
            " [1.0 0.0 0.0 ... 1 85.28 26.2]]\n"
          ],
          "name": "stdout"
        }
      ]
    },
    {
      "cell_type": "markdown",
      "metadata": {
        "id": "kaHmOUVg3tMo"
      },
      "source": [
        "## Splitting dataset into training and test set"
      ]
    },
    {
      "cell_type": "code",
      "metadata": {
        "id": "NZlCEcNv1MqI"
      },
      "source": [
        "from sklearn.model_selection import train_test_split\n",
        "x_train, x_test, y_train, y_test = train_test_split(x, y, test_size= 0.2, random_state= 0)"
      ],
      "execution_count": null,
      "outputs": []
    },
    {
      "cell_type": "markdown",
      "metadata": {
        "id": "zSNV7RZNPPjQ"
      },
      "source": [
        "Checking dimensions of test set and training set:"
      ]
    },
    {
      "cell_type": "code",
      "metadata": {
        "colab": {
          "base_uri": "https://localhost:8080/"
        },
        "id": "Hy68i0Iz1N_P",
        "outputId": "2939d847-5740-43f3-de5e-1e6c573bc30d"
      },
      "source": [
        "print(\"Number transactions x_train dataset: \", x_train.shape)\n",
        "print(\"Number transactions y_train dataset: \", y_train.shape)\n",
        "print(\"Number transactions x_test dataset: \", x_test.shape)\n",
        "print(\"Number transactions y_test dataset: \", y_test.shape)"
      ],
      "execution_count": null,
      "outputs": [
        {
          "output_type": "stream",
          "text": [
            "Number transactions x_train dataset:  (4088, 19)\n",
            "Number transactions y_train dataset:  (4088,)\n",
            "Number transactions x_test dataset:  (1022, 19)\n",
            "Number transactions y_test dataset:  (1022,)\n"
          ],
          "name": "stdout"
        }
      ]
    },
    {
      "cell_type": "markdown",
      "metadata": {
        "id": "jYA8XtBu3z6x"
      },
      "source": [
        "## Feature scaling"
      ]
    },
    {
      "cell_type": "markdown",
      "metadata": {
        "id": "XJ-PM7HR33lt"
      },
      "source": [
        "StandardScaler standardizes a feature by subtracting the mean and then scaling to unit variance. Unit variance means dividing all the values by the standard deviation. StandardScaler results in a distribution with a standard deviation equal to 1."
      ]
    },
    {
      "cell_type": "code",
      "metadata": {
        "id": "6-_JiKqm1Pbo"
      },
      "source": [
        "from sklearn.preprocessing import StandardScaler \n",
        "sc = StandardScaler()\n",
        "x_train = sc.fit_transform(x_train)\n",
        "x_test = sc.transform(x_test)"
      ],
      "execution_count": null,
      "outputs": []
    },
    {
      "cell_type": "markdown",
      "metadata": {
        "id": "APplcZhS37ZE"
      },
      "source": [
        "## Handling imbalance data using SMOTE"
      ]
    },
    {
      "cell_type": "markdown",
      "metadata": {
        "id": "4RnkwtGs3-F0"
      },
      "source": [
        "SMOTE - Synthetic Minority Oversampling Technique is an oversampling technique where the synthetic samples are generated for the minority class. This algorithm helps to overcome the overfitting problem posed by random oversampling."
      ]
    },
    {
      "cell_type": "code",
      "metadata": {
        "id": "WzpiuxQr1Q4d",
        "colab": {
          "base_uri": "https://localhost:8080/"
        },
        "outputId": "ed817e17-357a-448b-c4e5-9522f6989d0b"
      },
      "source": [
        "from imblearn.over_sampling import SMOTE"
      ],
      "execution_count": null,
      "outputs": [
        {
          "output_type": "stream",
          "text": [
            "/usr/local/lib/python3.7/dist-packages/sklearn/externals/six.py:31: FutureWarning: The module is deprecated in version 0.21 and will be removed in version 0.23 since we've dropped support for Python 2.7. Please rely on the official version of six (https://pypi.org/project/six/).\n",
            "  \"(https://pypi.org/project/six/).\", FutureWarning)\n",
            "/usr/local/lib/python3.7/dist-packages/sklearn/utils/deprecation.py:144: FutureWarning: The sklearn.neighbors.base module is  deprecated in version 0.22 and will be removed in version 0.24. The corresponding classes / functions should instead be imported from sklearn.neighbors. Anything that cannot be imported from sklearn.neighbors is now part of the private API.\n",
            "  warnings.warn(message, FutureWarning)\n"
          ],
          "name": "stderr"
        }
      ]
    },
    {
      "cell_type": "code",
      "metadata": {
        "colab": {
          "base_uri": "https://localhost:8080/"
        },
        "id": "TZcRYd_o1TCq",
        "outputId": "7e6eb534-f4ab-4dc3-e082-3bbf49662aac"
      },
      "source": [
        "print(\"Before OverSampling, counts of label '1': {}\".format(sum(y_train==1)))\n",
        "print(\"Before OverSampling, counts of label '0': {} \\n\".format(sum(y_train==0)))\n",
        "\n",
        "sm = SMOTE(random_state=2)\n",
        "x_train_res, y_train_res = sm.fit_resample(x_train, y_train.ravel())\n",
        "\n",
        "print('After OverSampling, the shape of train_X: {}'.format(x_train_res.shape))\n",
        "print('After OverSampling, the shape of train_y: {} \\n'.format(y_train_res.shape))\n",
        "\n",
        "print(\"After OverSampling, counts of label '1': {}\".format(sum(y_train_res==1)))\n",
        "print(\"After OverSampling, counts of label '0': {}\".format(sum(y_train_res==0)))"
      ],
      "execution_count": null,
      "outputs": [
        {
          "output_type": "stream",
          "text": [
            "Before OverSampling, counts of label '1': 195\n",
            "Before OverSampling, counts of label '0': 3893 \n",
            "\n",
            "After OverSampling, the shape of train_X: (7786, 19)\n",
            "After OverSampling, the shape of train_y: (7786,) \n",
            "\n",
            "After OverSampling, counts of label '1': 3893\n",
            "After OverSampling, counts of label '0': 3893\n"
          ],
          "name": "stdout"
        },
        {
          "output_type": "stream",
          "text": [
            "/usr/local/lib/python3.7/dist-packages/sklearn/utils/deprecation.py:87: FutureWarning: Function safe_indexing is deprecated; safe_indexing is deprecated in version 0.22 and will be removed in version 0.24.\n",
            "  warnings.warn(msg, category=FutureWarning)\n"
          ],
          "name": "stderr"
        }
      ]
    },
    {
      "cell_type": "markdown",
      "metadata": {
        "id": "hhRb3Mbq4BRj"
      },
      "source": [
        "## Applying logistic regression on our dataset"
      ]
    },
    {
      "cell_type": "markdown",
      "metadata": {
        "id": "eoUthv6t4KjJ"
      },
      "source": [
        "Importing necessary libraries for Logistic regression and evaluating metrics"
      ]
    },
    {
      "cell_type": "code",
      "metadata": {
        "id": "Xq0KIXsO1VJf"
      },
      "source": [
        "from sklearn.linear_model import LogisticRegression\n",
        "from sklearn.metrics import accuracy_score, confusion_matrix, roc_auc_score, ConfusionMatrixDisplay, precision_score, recall_score, f1_score, classification_report, roc_curve, plot_roc_curve, auc, precision_recall_curve, plot_precision_recall_curve, average_precision_score\n",
        "from sklearn.model_selection import cross_val_score"
      ],
      "execution_count": null,
      "outputs": []
    },
    {
      "cell_type": "markdown",
      "metadata": {
        "id": "8aKvoRUHPedv"
      },
      "source": [
        "Applying logistic regression to our model"
      ]
    },
    {
      "cell_type": "code",
      "metadata": {
        "colab": {
          "base_uri": "https://localhost:8080/"
        },
        "id": "n24XFA4q1dgX",
        "outputId": "625b9ad9-70ae-4211-c85d-43ef202e603e"
      },
      "source": [
        "classifier = LogisticRegression(random_state = 0)\n",
        "classifier.fit(x_train_res, y_train_res)"
      ],
      "execution_count": null,
      "outputs": [
        {
          "output_type": "execute_result",
          "data": {
            "text/plain": [
              "LogisticRegression(C=1.0, class_weight=None, dual=False, fit_intercept=True,\n",
              "                   intercept_scaling=1, l1_ratio=None, max_iter=100,\n",
              "                   multi_class='auto', n_jobs=None, penalty='l2',\n",
              "                   random_state=0, solver='lbfgs', tol=0.0001, verbose=0,\n",
              "                   warm_start=False)"
            ]
          },
          "metadata": {
            "tags": []
          },
          "execution_count": 19
        }
      ]
    },
    {
      "cell_type": "markdown",
      "metadata": {
        "id": "xgjdtkLWPiGk"
      },
      "source": [
        "Calculating metrics for our test set"
      ]
    },
    {
      "cell_type": "code",
      "metadata": {
        "id": "1tozj9qu4ipF"
      },
      "source": [
        "y_pred = classifier.predict(x_test)\n",
        "cm = confusion_matrix(y_test, y_pred)\n",
        "accuracies = cross_val_score(estimator = LogisticRegression(random_state=0), X = x_train_res, y = y_train_res, cv = 10)   #K-Fold Validation\n",
        "roc = roc_auc_score(y_test, y_pred)  #ROC AUC Score\n",
        "precision = precision_score(y_test, y_pred)  #Precision Score\n",
        "recall = recall_score(y_test, y_pred)  #Recall Score\n",
        "f1 = f1_score(y_test, y_pred)  #F1 Score"
      ],
      "execution_count": null,
      "outputs": []
    },
    {
      "cell_type": "markdown",
      "metadata": {
        "id": "ZAEvL5fjRY-m"
      },
      "source": [
        "Printing out metrics"
      ]
    },
    {
      "cell_type": "code",
      "metadata": {
        "colab": {
          "base_uri": "https://localhost:8080/",
          "height": 685
        },
        "id": "ZnpxylHX2DJA",
        "outputId": "7e6cf884-f051-4a9a-8ef6-5d5bc15734cf"
      },
      "source": [
        "# Printing metrics\n",
        "print('Logistic Regression metrics:')\n",
        "print('')\n",
        "print('Confusion Matrix:\\n',cm)\n",
        "print('')\n",
        "print('Accuracy Score: ',accuracy_score(y_test, y_pred))\n",
        "print('')\n",
        "print(\"K-Fold Validation Mean Accuracy: {:.2f} %\".format(accuracies.mean()*100))\n",
        "print('')\n",
        "print(\"Standard Deviation: {:.2f} %\".format(accuracies.std()*100))\n",
        "print('')\n",
        "print('ROC AUC Score: {:.2f}'.format(roc))\n",
        "print('')\n",
        "print('Precision: {:.2f}'.format(precision))\n",
        "print('')\n",
        "print('Recall: {:.2f}'.format(recall))\n",
        "print('')\n",
        "print('F1: {:.2f}'.format(f1))\n",
        "print('-----------------------------------')\n",
        "print('')\n",
        "#Visualizing Confusion Matrix\n",
        "plt.figure(figsize = (8, 5))\n",
        "sns.heatmap(cm, cmap = 'Blues', annot = True, fmt = 'd', linewidths = 5, cbar = False, annot_kws = {'fontsize': 15}, \n",
        "            yticklabels = ['No stroke', 'Stroke'], xticklabels = ['Predicted no stroke', 'Predicted stroke'])\n",
        "plt.yticks(rotation = 0)\n",
        "plt.show()"
      ],
      "execution_count": null,
      "outputs": [
        {
          "output_type": "stream",
          "text": [
            "Logistic Regression metrics:\n",
            "\n",
            "Confusion Matrix:\n",
            " [[750 218]\n",
            " [ 15  39]]\n",
            "\n",
            "Accuracy Score:  0.7720156555772995\n",
            "\n",
            "K-Fold Validation Mean Accuracy: 79.45 %\n",
            "\n",
            "Standard Deviation: 1.39 %\n",
            "\n",
            "ROC AUC Score: 0.75\n",
            "\n",
            "Precision: 0.15\n",
            "\n",
            "Recall: 0.72\n",
            "\n",
            "F1: 0.25\n",
            "-----------------------------------\n",
            "\n"
          ],
          "name": "stdout"
        },
        {
          "output_type": "display_data",
          "data": {
            "image/png": "[encoded data removed]",
            "text/plain": [
              "<Figure size 576x360 with 1 Axes>"
            ]
          },
          "metadata": {
            "tags": [],
            "needs_background": "light"
          }
        }
      ]
    },
    {
      "cell_type": "markdown",
      "metadata": {
        "id": "pwasIhag8Ryj"
      },
      "source": [
        "## Advanced Tuning Logistic Regression"
      ]
    },
    {
      "cell_type": "code",
      "metadata": {
        "id": "Fhft_Cpd9ETU"
      },
      "source": [
        "from sklearn.model_selection import GridSearchCV"
      ],
      "execution_count": null,
      "outputs": []
    },
    {
      "cell_type": "markdown",
      "metadata": {
        "id": "LJJL24HD9Eyo"
      },
      "source": [
        "The GridSearchCV is a library function that is a member of sklearn's model_selection package. It helps to loop through predefined hyperparameters and fit your estimator (model) on your training set. So, in the end, you can select the best parameters from the listed hyperparameters."
      ]
    },
    {
      "cell_type": "code",
      "metadata": {
        "colab": {
          "base_uri": "https://localhost:8080/"
        },
        "id": "re_MZEU68WD_",
        "outputId": "8bf6b30d-cc4b-415a-8b07-b06701479f8b"
      },
      "source": [
        "j=[{'C':[0.25,0.5,0.75,1],'random_state':[0]}]\n",
        "grid=GridSearchCV(estimator=LogisticRegression(),param_grid=j,scoring='accuracy',cv=10)\n",
        "grid.fit(x_train_res, y_train_res)\n",
        "best_accuracy = grid.best_score_\n",
        "best_param = grid.best_params_\n",
        "print('{}:\\nBest Accuracy : {:.2f}%'.format('Logistic Regression',best_accuracy*100))\n",
        "print('Best Parameters : ',best_param)"
      ],
      "execution_count": null,
      "outputs": [
        {
          "output_type": "stream",
          "text": [
            "Logistic Regression:\n",
            "Best Accuracy : 79.45%\n",
            "Best Parameters :  {'C': 0.75, 'random_state': 0}\n"
          ],
          "name": "stdout"
        }
      ]
    },
    {
      "cell_type": "markdown",
      "metadata": {
        "id": "61B64JGhP3b4"
      },
      "source": [
        "## Interesting Insights and visualizations from dataset"
      ]
    },
    {
      "cell_type": "markdown",
      "metadata": {
        "id": "kw93Kj4lQPwZ"
      },
      "source": [
        "### Some key observations from our dataset"
      ]
    },
    {
      "cell_type": "markdown",
      "metadata": {
        "id": "pj-2HWL4QWzM"
      },
      "source": [
        "Gender"
      ]
    },
    {
      "cell_type": "code",
      "metadata": {
        "colab": {
          "base_uri": "https://localhost:8080/"
        },
        "id": "xipspc6JP0yL",
        "outputId": "24bd85b8-fa8a-4e2a-c326-524e27b63363"
      },
      "source": [
        "print(dataset.gender.value_counts())\n",
        "sns.set_theme(style=\"darkgrid\")\n",
        "ax = sns.countplot(data=dataset, x=\"gender\")\n",
        "plt.show()"
      ],
      "execution_count": null,
      "outputs": [
        {
          "output_type": "stream",
          "text": [
            "Female    2994\n",
            "Male      2115\n",
            "Other        1\n",
            "Name: gender, dtype: int64\n"
          ],
          "name": "stdout"
        },
        {
          "output_type": "display_data",
          "data": {
            "image/png": "[encoded data removed]",
            "text/plain": [
              "<Figure size 432x288 with 1 Axes>"
            ]
          },
          "metadata": {
            "tags": []
          }
        }
      ]
    },
    {
      "cell_type": "markdown",
      "metadata": {
        "id": "7S6D_1ybSqom"
      },
      "source": [
        "Age & BMI"
      ]
    },
    {
      "cell_type": "code",
      "metadata": {
        "colab": {
          "base_uri": "https://localhost:8080/"
        },
        "id": "rkDZ9icWSr2d",
        "outputId": "adb6bbff-1cf6-45f3-a9cf-2cbb8030592b"
      },
      "source": [
        "fig=plt.figure(figsize=(20,8),facecolor='white')\n",
        "gs=fig.add_gridspec(1,2)\n",
        "ax=[None for i in range(2)]\n",
        "ax[0]=fig.add_subplot(gs[0,0])\n",
        "ax[1]=fig.add_subplot(gs[0,1])\n",
        "\n",
        "ax[0].text(-24,0.019,'Distribution of the age variable',fontsize=23,fontweight='bold', fontfamily='monospace')\n",
        "ax[0].text(-24,0.01826,'Most of the people in the dataset are between 40 to 60 years old',fontsize=17,fontweight='light', fontfamily='monospace')\n",
        "\n",
        "ax[1].text(6,412,'Distribution of the bmi variable',fontsize=23,fontweight='bold', fontfamily='monospace')\n",
        "ax[1].text(6,395,'Most of the people in the dataset are between 25 to 35 of bmi',fontsize=17,fontweight='light', fontfamily='monospace')\n",
        "\n",
        "sns.kdeplot(x=dataset['age'],ax=ax[0],shade=True, color='gold', alpha=0.6,zorder=3,linewidth=5,edgecolor='black')\n",
        "sns.histplot(x=dataset['bmi'],ax=ax[1], color='olive', alpha=1,zorder=2,linewidth=1,edgecolor='black',shrink=0.5)\n",
        "\n",
        "for i in range(2):\n",
        "    ax[i].set_ylabel('')\n",
        "    ax[i].grid(which='both', axis='y', zorder=0, color='black', linestyle=':', dashes=(2,7))\n",
        "    \n",
        "    for direction in ['top','right','left']:\n",
        "        ax[i].spines[direction].set_visible(False)\n",
        "        \n",
        "ax[1].set_xlim(10,70)\n",
        "        \n",
        "plt.tight_layout()\n",
        "\n"
      ],
      "execution_count": null,
      "outputs": [
        {
          "output_type": "display_data",
          "data": {
            "image/png": "[encoded data removed]",
            "text/plain": [
              "<Figure size 1440x576 with 2 Axes>"
            ]
          },
          "metadata": {
            "tags": []
          }
        }
      ]
    },
    {
      "cell_type": "markdown",
      "metadata": {
        "id": "Gpqa95W8QZ1r"
      },
      "source": [
        "Hypertension"
      ]
    },
    {
      "cell_type": "code",
      "metadata": {
        "colab": {
          "base_uri": "https://localhost:8080/"
        },
        "id": "z-vT0CboQbmM",
        "outputId": "874c585c-7f44-48e4-ad62-c4f95a98da0b"
      },
      "source": [
        "print(dataset.hypertension.value_counts())\n",
        "sns.set_theme(style=\"darkgrid\")\n",
        "ax = sns.countplot(data=dataset, x=\"hypertension\")\n",
        "plt.show()"
      ],
      "execution_count": null,
      "outputs": [
        {
          "output_type": "stream",
          "text": [
            "0    4612\n",
            "1     498\n",
            "Name: hypertension, dtype: int64\n"
          ],
          "name": "stdout"
        },
        {
          "output_type": "display_data",
          "data": {
            "image/png": "[encoded data removed]",
            "text/plain": [
              "<Figure size 432x288 with 1 Axes>"
            ]
          },
          "metadata": {
            "tags": []
          }
        }
      ]
    },
    {
      "cell_type": "markdown",
      "metadata": {
        "id": "VSVB4VTJQdWQ"
      },
      "source": [
        "Marital status"
      ]
    },
    {
      "cell_type": "code",
      "metadata": {
        "colab": {
          "base_uri": "https://localhost:8080/"
        },
        "id": "KAbuF1ynQeyv",
        "outputId": "a6938612-38f5-4093-c77c-2931cf882bc0"
      },
      "source": [
        "print(dataset.ever_married.value_counts())\n",
        "sns.set_theme(style=\"darkgrid\")\n",
        "ax = sns.countplot(data=dataset, x=\"ever_married\")\n",
        "plt.show()"
      ],
      "execution_count": null,
      "outputs": [
        {
          "output_type": "stream",
          "text": [
            "Yes    3353\n",
            "No     1757\n",
            "Name: ever_married, dtype: int64\n"
          ],
          "name": "stdout"
        },
        {
          "output_type": "display_data",
          "data": {
            "image/png": "[encoded data removed]",
            "text/plain": [
              "<Figure size 432x288 with 1 Axes>"
            ]
          },
          "metadata": {
            "tags": []
          }
        }
      ]
    },
    {
      "cell_type": "markdown",
      "metadata": {
        "id": "x2p7Fj9vQhsi"
      },
      "source": [
        "Type of work "
      ]
    },
    {
      "cell_type": "code",
      "metadata": {
        "colab": {
          "base_uri": "https://localhost:8080/"
        },
        "id": "TPPXPD4uQjUf",
        "outputId": "cd70724a-2f7f-40b1-fd8d-f642edabab91"
      },
      "source": [
        "print(dataset.work_type.value_counts())\n",
        "sns.set_theme(style=\"darkgrid\")\n",
        "ax = sns.countplot(data=dataset, x=\"work_type\")\n",
        "plt.show()"
      ],
      "execution_count": null,
      "outputs": [
        {
          "output_type": "stream",
          "text": [
            "Private          2925\n",
            "Self-employed     819\n",
            "children          687\n",
            "Govt_job          657\n",
            "Never_worked       22\n",
            "Name: work_type, dtype: int64\n"
          ],
          "name": "stdout"
        },
        {
          "output_type": "display_data",
          "data": {
            "image/png": "[encoded data removed]",
            "text/plain": [
              "<Figure size 432x288 with 1 Axes>"
            ]
          },
          "metadata": {
            "tags": []
          }
        }
      ]
    },
    {
      "cell_type": "markdown",
      "metadata": {
        "id": "D-INzUCjQlPH"
      },
      "source": [
        "Type of residence"
      ]
    },
    {
      "cell_type": "code",
      "metadata": {
        "colab": {
          "base_uri": "https://localhost:8080/"
        },
        "id": "35VHGrvJQmVL",
        "outputId": "ff61877e-5c79-4edb-ada8-3a7757695a37"
      },
      "source": [
        "print(dataset.Residence_type.value_counts())\n",
        "sns.set_theme(style=\"darkgrid\")\n",
        "ax = sns.countplot(data=dataset, x=\"Residence_type\")\n",
        "plt.show()"
      ],
      "execution_count": null,
      "outputs": [
        {
          "output_type": "stream",
          "text": [
            "Urban    2596\n",
            "Rural    2514\n",
            "Name: Residence_type, dtype: int64\n"
          ],
          "name": "stdout"
        },
        {
          "output_type": "display_data",
          "data": {
            "image/png": "[encoded data removed]",
            "text/plain": [
              "<Figure size 432x288 with 1 Axes>"
            ]
          },
          "metadata": {
            "tags": []
          }
        }
      ]
    },
    {
      "cell_type": "markdown",
      "metadata": {
        "id": "jM27sRmaQqt-"
      },
      "source": [
        "Smoking Status"
      ]
    },
    {
      "cell_type": "code",
      "metadata": {
        "colab": {
          "base_uri": "https://localhost:8080/"
        },
        "id": "vVNVHmDzQsl9",
        "outputId": "12c148c3-1b36-4833-f147-1d8888574fc5"
      },
      "source": [
        "print(dataset.smoking_status.value_counts())\n",
        "sns.set_theme(style=\"darkgrid\")\n",
        "ax = sns.countplot(data=dataset, x=\"smoking_status\")\n",
        "ax.set_xticklabels(ax.get_xticklabels(), fontsize=10)\n",
        "plt.tight_layout()\n",
        "plt.show()"
      ],
      "execution_count": null,
      "outputs": [
        {
          "output_type": "stream",
          "text": [
            "never smoked       1892\n",
            "Unknown            1544\n",
            "formerly smoked     885\n",
            "smokes              789\n",
            "Name: smoking_status, dtype: int64\n"
          ],
          "name": "stdout"
        },
        {
          "output_type": "display_data",
          "data": {
            "image/png": "[encoded data removed]",
            "text/plain": [
              "<Figure size 432x288 with 1 Axes>"
            ]
          },
          "metadata": {
            "tags": []
          }
        }
      ]
    },
    {
      "cell_type": "markdown",
      "metadata": {
        "id": "q36D5tOvQus7"
      },
      "source": [
        "Stroke experienced?"
      ]
    },
    {
      "cell_type": "code",
      "metadata": {
        "colab": {
          "base_uri": "https://localhost:8080/"
        },
        "id": "3uFOpKh1Q0pW",
        "outputId": "89708027-897e-46da-c327-e6bdfd8ac42d"
      },
      "source": [
        "print(dataset.stroke.value_counts())\n",
        "sns.set_theme(style=\"darkgrid\")\n",
        "ax = sns.countplot(data=dataset, x=\"stroke\")\n",
        "plt.show()"
      ],
      "execution_count": null,
      "outputs": [
        {
          "output_type": "stream",
          "text": [
            "0    4861\n",
            "1     249\n",
            "Name: stroke, dtype: int64\n"
          ],
          "name": "stdout"
        },
        {
          "output_type": "display_data",
          "data": {
            "image/png": "[encoded data removed]",
            "text/plain": [
              "<Figure size 432x288 with 1 Axes>"
            ]
          },
          "metadata": {
            "tags": []
          }
        }
      ]
    }
  ]
}